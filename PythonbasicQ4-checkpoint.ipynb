{
 "cells": [
  {
   "cell_type": "code",
   "execution_count": 4,
   "metadata": {},
   "outputs": [
    {
     "name": "stdout",
     "output_type": "stream",
     "text": [
      "2000\n",
      "2000 is leap year\n"
     ]
    }
   ],
   "source": [
    "x=int(input())\n",
    "\n",
    "if (x%2)==0:\n",
    "    if(x%100)==0:\n",
    "        if(x%400)==0:\n",
    "            print(str(x)+\" is leap year\")\n",
    "        else:\n",
    "            print(str(x)+\" is not leap year\")\n",
    "    else:\n",
    "        print(str(x)+\" is leap year\")\n",
    "else:\n",
    "    print(str(x)+\" is not leap year\")\n",
    "    \n",
    "    "
   ]
  },
  {
   "cell_type": "code",
   "execution_count": 5,
   "metadata": {},
   "outputs": [
    {
     "name": "stdout",
     "output_type": "stream",
     "text": [
      "1917\n",
      "1917 is not leap year\n"
     ]
    }
   ],
   "source": [
    "x=int(input())\n",
    "\n",
    "if (x%2)==0:\n",
    "    if(x%100)==0:\n",
    "        if(x%400)==0:\n",
    "            print(str(x)+\" is leap year\")\n",
    "        else:\n",
    "            print(str(x)+\" is not leap year\")\n",
    "    else:\n",
    "        print(str(x)+\" is leap year\")\n",
    "else:\n",
    "    print(str(x)+\" is not leap year\")"
   ]
  },
  {
   "cell_type": "code",
   "execution_count": null,
   "metadata": {},
   "outputs": [],
   "source": []
  }
 ],
 "metadata": {
  "kernelspec": {
   "display_name": "Python 3",
   "language": "python",
   "name": "python3"
  },
  "language_info": {
   "codemirror_mode": {
    "name": "ipython",
    "version": 3
   },
   "file_extension": ".py",
   "mimetype": "text/x-python",
   "name": "python",
   "nbconvert_exporter": "python",
   "pygments_lexer": "ipython3",
   "version": "3.7.6"
  }
 },
 "nbformat": 4,
 "nbformat_minor": 4
}
