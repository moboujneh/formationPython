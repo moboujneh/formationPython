{
 "cells": [
  {
   "cell_type": "code",
   "execution_count": 5,
   "metadata": {},
   "outputs": [
    {
     "name": "stdout",
     "output_type": "stream",
     "text": [
      "700\n",
      "350.0\n"
     ]
    }
   ],
   "source": [
    "x=int(input())\n",
    "\n",
    "if x>=500:\n",
    "    print(str(x-x*.5))\n",
    "elif 200<=x <500:\n",
    "    print(str(x-x*.3))\n",
    "else:\n",
    "    print(str(x-x*.1))"
   ]
  },
  {
   "cell_type": "code",
   "execution_count": null,
   "metadata": {},
   "outputs": [],
   "source": []
  },
  {
   "cell_type": "code",
   "execution_count": 6,
   "metadata": {},
   "outputs": [
    {
     "name": "stdout",
     "output_type": "stream",
     "text": [
      "200\n",
      "140.0\n"
     ]
    }
   ],
   "source": [
    "x=int(input())\n",
    "\n",
    "if x>=500:\n",
    "    print(str(x-x*.5))\n",
    "elif 200<=x <500:\n",
    "    print(str(x-x*.3))\n",
    "else:\n",
    "    print(str(x-x*.1))"
   ]
  },
  {
   "cell_type": "code",
   "execution_count": 7,
   "metadata": {},
   "outputs": [
    {
     "name": "stdout",
     "output_type": "stream",
     "text": [
      "300\n",
      "210.0\n"
     ]
    }
   ],
   "source": [
    "x=int(input())\n",
    "\n",
    "if x>=500:\n",
    "    print(str(x-x*.5))\n",
    "elif 200<=x <500:\n",
    "    print(str(x-x*.3))\n",
    "else:\n",
    "    print(str(x-x*.1))\n",
    "    \n",
    "    "
   ]
  },
  {
   "cell_type": "code",
   "execution_count": 8,
   "metadata": {},
   "outputs": [
    {
     "name": "stdout",
     "output_type": "stream",
     "text": [
      "100\n",
      "90.0\n"
     ]
    }
   ],
   "source": [
    "x=int(input())\n",
    "\n",
    "if x>=500:\n",
    "    print(str(x-x*.5))\n",
    "elif 200<=x <500:\n",
    "    print(str(x-x*.3))\n",
    "else:\n",
    "    print(str(x-x*.1))\n",
    "    "
   ]
  },
  {
   "cell_type": "code",
   "execution_count": null,
   "metadata": {},
   "outputs": [],
   "source": []
  }
 ],
 "metadata": {
  "kernelspec": {
   "display_name": "Python 3",
   "language": "python",
   "name": "python3"
  },
  "language_info": {
   "codemirror_mode": {
    "name": "ipython",
    "version": 3
   },
   "file_extension": ".py",
   "mimetype": "text/x-python",
   "name": "python",
   "nbconvert_exporter": "python",
   "pygments_lexer": "ipython3",
   "version": "3.7.6"
  }
 },
 "nbformat": 4,
 "nbformat_minor": 4
}
