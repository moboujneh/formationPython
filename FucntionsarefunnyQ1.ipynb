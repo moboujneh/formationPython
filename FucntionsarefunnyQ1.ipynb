{
 "cells": [
  {
   "cell_type": "code",
   "execution_count": 1,
   "metadata": {},
   "outputs": [
    {
     "name": "stdout",
     "output_type": "stream",
     "text": [
      "donner a\n",
      "5\n",
      "donner b\n",
      "6\n",
      "donner c\n",
      "8\n",
      "8est le plus grand :5 6 8\n"
     ]
    }
   ],
   "source": [
    "def max_num(x,y):\n",
    "    if (x>y):\n",
    "        return x\n",
    "    else:\n",
    "        return y\n",
    "\n",
    "print(\"donner a\")\n",
    "a=input()\n",
    "print(\"donner b\")\n",
    "b=input()\n",
    "print(\"donner c\")\n",
    "c=input()\n",
    "\n",
    "print(max_num(max_num(a,b),c)+\" est le plus grand :\"+a,b,c)\n",
    "\n",
    "    "
   ]
  },
  {
   "cell_type": "code",
   "execution_count": null,
   "metadata": {},
   "outputs": [],
   "source": []
  }
 ],
 "metadata": {
  "kernelspec": {
   "display_name": "Python 3",
   "language": "python",
   "name": "python3"
  },
  "language_info": {
   "codemirror_mode": {
    "name": "ipython",
    "version": 3
   },
   "file_extension": ".py",
   "mimetype": "text/x-python",
   "name": "python",
   "nbconvert_exporter": "python",
   "pygments_lexer": "ipython3",
   "version": "3.7.6"
  }
 },
 "nbformat": 4,
 "nbformat_minor": 4
}
