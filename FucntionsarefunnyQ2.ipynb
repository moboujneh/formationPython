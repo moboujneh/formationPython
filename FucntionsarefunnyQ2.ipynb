{
 "cells": [
  {
   "cell_type": "code",
   "execution_count": 14,
   "metadata": {},
   "outputs": [
    {
     "name": "stdout",
     "output_type": "stream",
     "text": [
      "Somme= 9\n",
      "Multiple= 105\n"
     ]
    }
   ],
   "source": [
    "def somme_fonction(l):\n",
    "    x=0\n",
    "    for i in range(len(l)):\n",
    "        x=x+l[i]\n",
    "    return x\n",
    "\n",
    "\n",
    "def multiple_fonction(l2):\n",
    "    x=1\n",
    "    for i in range(len(l2)):\n",
    "        x=x*l2[i]\n",
    "    return x\n",
    "\n",
    "\n",
    "def liste_fonction(liste):\n",
    "    liste1=[]\n",
    "    liste2=[]\n",
    "    for i in range(len(liste)):\n",
    "        if (i%2)==0:\n",
    "            liste1.insert(i,liste[i])\n",
    "        else:\n",
    "            liste2.insert(i,liste[i])\n",
    "    print(\"Somme=\",somme_fonction(liste1))\n",
    "    print(\"Multiple=\",multiple_fonction(liste2))       \n",
    "    \n",
    "\n",
    "\n",
    "list=[2, 3, 6,5,1,7]\n",
    "liste_fonction(list)\n"
   ]
  },
  {
   "cell_type": "code",
   "execution_count": null,
   "metadata": {},
   "outputs": [],
   "source": []
  }
 ],
 "metadata": {
  "kernelspec": {
   "display_name": "Python 3",
   "language": "python",
   "name": "python3"
  },
  "language_info": {
   "codemirror_mode": {
    "name": "ipython",
    "version": 3
   },
   "file_extension": ".py",
   "mimetype": "text/x-python",
   "name": "python",
   "nbconvert_exporter": "python",
   "pygments_lexer": "ipython3",
   "version": "3.7.6"
  }
 },
 "nbformat": 4,
 "nbformat_minor": 4
}
